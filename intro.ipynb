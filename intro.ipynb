{
 "cells": [
  {
   "cell_type": "markdown",
   "metadata": {},
   "source": [
    "### Introduction\n",
    "After exploring the venues of boroughs in Toronto and New York, and doing some clustering on the coordinate data and foursquare data, we found some interesting insights about the differences between Toronto and New York. Through looking inside the distributions of boroughs in different clusters and the most common venues in these areas, we can see what are famous in different places in Toronto and New York. And based on these results we found, we can establish our business strategies with a clear target, e.g. if we want to build a Italian restaurants we should look for places where Italian restaurants are welcomed, and where may also be the places that most of Italian restaurants are located, then by comparing with other Italian restaurants we can further build some competitive business strategies to earn profits.\n"
   ]
  },
  {
   "cell_type": "markdown",
   "metadata": {},
   "source": [
    "### Stake holders\n",
    "Parties that may interested in this project may be the goverments who want to make some plans about building public services accoding to the venue data and the clustering result, combining other interesting data such as population, GDP and so on. And business man who want to start their business in somewhere when they don't know where to start, they can take the result of this project as a reference, combining other factors that may affect, then pick an optimal place to start up."
   ]
  },
  {
   "cell_type": "markdown",
   "metadata": {},
   "source": [
    "### Data section\n",
    "- location of the boroughs in New York and Toronto\n",
    "- data of neighborhood from wiki"
   ]
  },
  {
   "cell_type": "markdown",
   "metadata": {},
   "source": [
    "### Libraries\n",
    "- sklearn: for clustering\n",
    "- beautiful soup: scrape the data from wiki page\n",
    "- folium: plot the map\n",
    "- foursquare api: get the neighborhood data\n"
   ]
  },
  {
   "cell_type": "markdown",
   "metadata": {},
   "source": [
    "### Methodologies\n",
    "- k-means clustering"
   ]
  },
  {
   "attachments": {},
   "cell_type": "markdown",
   "metadata": {},
   "source": [
    "### Conclusion\n",
    "- #### Toronto:\n",
    "We can see from the above result, most area are labeled as cluster 2, including Downtown Toronto, Central Toronto, West Toronto and East Toronto, most of venues are coffee shop, cafe and restaurant, which indicates coffee shop have some market in these areas.\n",
    "\n",
    "- #### New York:\n",
    "Italian Restaurant, Coffee Shop and Bar are the most common venues in cluster 0 areas, which are mainly Manhattan, Brooklyn, Queens, Staten Island. While cluster 1 areas including Bronx, Queens, Brooklyn, Staten Island has a lot of Pizza Place, Chinese Restaurant, Caribbean Restaurant, Pharmacy, Bank and Grocery Store. Cluster 2 areas are mainly Staten Island and Queens, where many Deli and Italian restaurants are built there.\n"
   ]
  },
  {
   "cell_type": "code",
   "execution_count": null,
   "metadata": {},
   "outputs": [],
   "source": []
  }
 ],
 "metadata": {
  "kernelspec": {
   "display_name": "Python 3",
   "language": "python",
   "name": "python3"
  },
  "language_info": {
   "codemirror_mode": {
    "name": "ipython",
    "version": 3
   },
   "file_extension": ".py",
   "mimetype": "text/x-python",
   "name": "python",
   "nbconvert_exporter": "python",
   "pygments_lexer": "ipython3",
   "version": "3.7.1"
  }
 },
 "nbformat": 4,
 "nbformat_minor": 2
}
